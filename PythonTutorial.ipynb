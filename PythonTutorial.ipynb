{
  "nbformat": 4,
  "nbformat_minor": 0,
  "metadata": {
    "colab": {
      "name": "Untitled0.ipynb",
      "provenance": [],
      "authorship_tag": "ABX9TyPMi0RppIxWfTsbfhEUFMCc"
    },
    "kernelspec": {
      "name": "python3",
      "display_name": "Python 3"
    },
    "language_info": {
      "name": "python"
    }
  },
  "cells": [
    {
      "cell_type": "code",
      "execution_count": 9,
      "metadata": {
        "id": "MkxGQ-dTwDLy"
      },
      "outputs": [],
      "source": [
        "import math"
      ]
    },
    {
      "cell_type": "code",
      "source": [
        "#string value examples\n",
        "title = 'Harry Potter'\n",
        "Reading = 'I read ' + title + \". It was a good read.\"\n",
        "print(Reading)"
      ],
      "metadata": {
        "colab": {
          "base_uri": "https://localhost:8080/"
        },
        "id": "vSwLgrGtyTXf",
        "outputId": "c27827a0-7806-441a-fcdd-3633c119bdc3"
      },
      "execution_count": 10,
      "outputs": [
        {
          "output_type": "stream",
          "name": "stdout",
          "text": [
            "I read Harry Potter. It was a good read.\n"
          ]
        }
      ]
    },
    {
      "cell_type": "code",
      "source": [
        "title = 'League of Legends'\n",
        "Playing = 'I played ' + title + \". It was a good game.\"\n",
        "print(Playing)"
      ],
      "metadata": {
        "colab": {
          "base_uri": "https://localhost:8080/"
        },
        "id": "C_HXlbIr52yC",
        "outputId": "2052b794-1c7a-41bf-aa2c-d14c390d05bf"
      },
      "execution_count": 11,
      "outputs": [
        {
          "output_type": "stream",
          "name": "stdout",
          "text": [
            "I played League of Legends. It was a good game.\n"
          ]
        }
      ]
    },
    {
      "cell_type": "code",
      "source": [
        "title = 'a story'\n",
        "Writing = 'I wrote ' + title + \". I had a fun time writing it.\"\n",
        "print(Writing)"
      ],
      "metadata": {
        "colab": {
          "base_uri": "https://localhost:8080/"
        },
        "id": "p_ZTFzNk6DpO",
        "outputId": "f5f259fb-c4fc-4894-86ba-c288b6fbc64e"
      },
      "execution_count": 12,
      "outputs": [
        {
          "output_type": "stream",
          "name": "stdout",
          "text": [
            "I wrote a story. I had a fun time writing it.\n"
          ]
        }
      ]
    },
    {
      "cell_type": "code",
      "source": [
        "#numerical value examples\n",
        "x = 1\n",
        "y = 2\n",
        "print(x-y)"
      ],
      "metadata": {
        "colab": {
          "base_uri": "https://localhost:8080/"
        },
        "id": "LACmCJb56T-H",
        "outputId": "670e4961-37c6-4b93-edee-7b502a95b224"
      },
      "execution_count": 13,
      "outputs": [
        {
          "output_type": "stream",
          "name": "stdout",
          "text": [
            "-1\n"
          ]
        }
      ]
    },
    {
      "cell_type": "code",
      "source": [
        "x = math.pi\n",
        "y = math.e\n",
        "print(x*y)"
      ],
      "metadata": {
        "colab": {
          "base_uri": "https://localhost:8080/"
        },
        "id": "wyJwCPBz6dLx",
        "outputId": "e2158ae9-b0df-4340-aa9c-10784d03fed5"
      },
      "execution_count": 14,
      "outputs": [
        {
          "output_type": "stream",
          "name": "stdout",
          "text": [
            "8.539734222673566\n"
          ]
        }
      ]
    },
    {
      "cell_type": "code",
      "source": [
        "x = 4000011\n",
        "y = 800000005\n",
        "print(x/y)"
      ],
      "metadata": {
        "colab": {
          "base_uri": "https://localhost:8080/"
        },
        "id": "FGXihhv26jfe",
        "outputId": "31d290d1-0062-4afc-aef4-59c48ff1e44e"
      },
      "execution_count": 15,
      "outputs": [
        {
          "output_type": "stream",
          "name": "stdout",
          "text": [
            "0.005000013718749914\n"
          ]
        }
      ]
    }
  ]
}